{
 "cells": [
  {
   "cell_type": "code",
   "execution_count": null,
   "metadata": {},
   "outputs": [],
   "source": [
    "import csv\n",
    "from tqdm import trange, tqdm_notebook\n",
    "from pandas import ExcelWriter\n",
    "import datetime, warnings  \n",
    "import matplotlib as mpl\n",
    "\n",
    "from matplotlib import pyplot as plt\n",
    "from matplotlib.gridspec import GridSpec\n",
    "\n",
    "import numpy as np\n",
    "import pandas as pd\n",
    "\n",
    "import seaborn as sns\n",
    "from IPython.core.interactiveshell import InteractiveShell\n",
    "InteractiveShell.ast_node_interactivity = 'all'\n"
   ]
  },
  {
   "cell_type": "code",
   "execution_count": null,
   "metadata": {},
   "outputs": [],
   "source": [
    "weather = pd.read_csv('C:/Users/Playdata/py_projects/Mentoring/input/HourlyData2015.txt', low_memory=False)"
   ]
  },
  {
   "cell_type": "code",
   "execution_count": null,
   "metadata": {},
   "outputs": [],
   "source": [
    "def unique(list1): \n",
    "    unique_list = [] \n",
    "    for x in list1: \n",
    "        if x not in unique_list: \n",
    "            unique_list.append(x) \n",
    "    for x in unique_list: \n",
    "        return unique_list"
   ]
  },
  {
   "cell_type": "code",
   "execution_count": null,
   "metadata": {},
   "outputs": [],
   "source": [
    "# df = pd.read_csv('C:/Users/Playdata/py_projects/Mentoring/input/flights.csv', low_memory=False)\n",
    "df_new = pd.read_csv('C:/Users/Playdata/py_projects/Mentoring/input/df_new.csv', low_memory=False, sep ='\\t')"
   ]
  },
  {
   "cell_type": "code",
   "execution_count": null,
   "metadata": {},
   "outputs": [],
   "source": [
    "airport_data = pd.read_csv('C:/Users/Playdata/py_projects/Mentoring/SiteList.csv')"
   ]
  },
  {
   "cell_type": "markdown",
   "metadata": {},
   "source": [
    "# for making df_new with df"
   ]
  },
  {
   "cell_type": "raw",
   "metadata": {
    "scrolled": true
   },
   "source": [
    "for i in range(13):\n",
    "    df[df['MONTH'] == i].shape\n",
    "#(0, 31)\n",
    "# (469968, 31)\n",
    "# (429191, 31)\n",
    "# (504312, 31)\n",
    "# (485151, 31)\n",
    "# (496993, 31)\n",
    "# (503897, 31)\n",
    "# (520718, 31)\n",
    "# (510536, 31)\n",
    "# (464946, 31)\n",
    "# (486165, 31)\n",
    "# (467972, 31)\n",
    "# (479230, 31)\n",
    "\n",
    "df.shape #(5819079, 32)\n",
    "\n",
    "df['DATE'] = pd.to_datetime(df[['YEAR','MONTH','DAY']])\n",
    "\n",
    "def format_heure(chaine):\n",
    "    if pd.isnull(chaine):\n",
    "        return np.nan\n",
    "    else:\n",
    "        if chaine == 2400 : chaine = 0 \n",
    "        chaine = \"{0:04d}\".format(int(chaine))\n",
    "        heure = datetime.time(int(chaine[0:2]), int(chaine[2:4]))\n",
    "        return heure\n",
    "    \n",
    "def combine_date_heure(x):\n",
    "    if pd.isnull(x[0]) or pd.isnull(x[1]):\n",
    "        return np.nan\n",
    "    else:\n",
    "        return datetime.datetime.combine(x[0],x[1])\n",
    "    \n",
    "def create_flight_time(df, col):    \n",
    "    liste = []\n",
    "    for index, cols in df[['DATE', col]].iterrows():    \n",
    "        if pd.isnull(cols[1]):\n",
    "            liste.append(np.nan)\n",
    "        elif float(cols[1]) == 2400:\n",
    "            cols[0] += datetime.timedelta(days=1)\n",
    "            cols[1] = datetime.time(0,0)\n",
    "            liste.append(combine_date_heure(cols))\n",
    "        else:\n",
    "            cols[1] = format_heure(cols[1])\n",
    "            liste.append(combine_date_heure(cols))\n",
    "    return pd.Series(liste)\n",
    "\n",
    "df['SCHEDULED_DEPARTURE'] = create_flight_time(df, 'SCHEDULED_DEPARTURE')\n",
    "df['DEPARTURE_TIME'] =df['DEPARTURE_TIME'].apply(format_heure)\n",
    "df['SCHEDULED_ARRIVAL'] =df['SCHEDULED_ARRIVAL'].apply(format_heure)\n",
    "df['ARRIVAL_TIME'] = df['ARRIVAL_TIME'].apply(format_heure)\n",
    "\n",
    "df.loc[:5, ['SCHEDULED_DEPARTURE', 'SCHEDULED_ARRIVAL', 'DEPARTURE_TIME', 'ARRIVAL_TIME', 'DEPARTURE_DELAY', 'ARRIVAL_DELAY']]\n",
    "\n",
    "\n",
    "variables_to_remove = ['TAXI_OUT', 'TAXI_IN', 'WHEELS_ON', 'WHEELS_OFF','YEAR', 'MONTH','DAY','DAY_OF_WEEK','DATE', 'AIR_SYSTEM_DELAY','SECURITY_DELAY','AIRLINE_DELAY','LATE_AIRCRAFT_DELAY', 'DIVERTED','FLIGHT_NUMBER', 'TAIL_NUMBER', 'AIR_TIME', 'SCHEDULED_ARRIVAL', 'ARRIVAL_TIME', 'ARRIVAL_DELAY']\n",
    "df.drop(variables_to_remove, axis = 1, inplace = True)\n",
    "df_new = df[['AIRLINE', 'ORIGIN_AIRPORT', 'DESTINATION_AIRPORT',\n",
    "        'SCHEDULED_DEPARTURE', 'DEPARTURE_TIME', 'DEPARTURE_DELAY',\n",
    "        'SCHEDULED_TIME', 'ELAPSED_TIME']]\n",
    "\n",
    "df_new[:5]\n",
    "\n",
    "df_new.shape\n",
    "\n",
    "df_new.to_csv('df_new.csv', sep='\\t')\n",
    "# pd.read_csv('df_2015.csv', sep = \"\\t\")\n",
    "\n",
    "df_new.info()\n",
    "\n",
    "df_new.isnull().sum()"
   ]
  },
  {
   "cell_type": "code",
   "execution_count": null,
   "metadata": {},
   "outputs": [],
   "source": [
    "df_OA = unique(df_new['ORIGIN_AIRPORT'])"
   ]
  },
  {
   "cell_type": "code",
   "execution_count": null,
   "metadata": {},
   "outputs": [],
   "source": [
    "len(df_OA) #628\n",
    "print(type(df_OA))"
   ]
  },
  {
   "cell_type": "code",
   "execution_count": null,
   "metadata": {},
   "outputs": [],
   "source": [
    "wd_OA = unique(weather['Site'])\n",
    "len(wd_OA) # 405\n",
    "print(wd_OA)"
   ]
  },
  {
   "cell_type": "code",
   "execution_count": null,
   "metadata": {},
   "outputs": [],
   "source": [
    "in_both_4ch= []\n",
    "in_both_dict = {}"
   ]
  },
  {
   "cell_type": "code",
   "execution_count": null,
   "metadata": {},
   "outputs": [],
   "source": [
    "for code_4 in wd_OA:\n",
    "    a = code_4[1:4]\n",
    "    b = code_4[0:3]\n",
    "    if  a in df_OA:\n",
    "        in_both_4ch.append(code_4)\n",
    "        key = code_4\n",
    "        value = a\n",
    "        in_both_dict[code_4] = a\n",
    "    elif b in df_OA:\n",
    "        in_both_4ch.append(code_4)\n",
    "        key = code_4\n",
    "        value = b\n",
    "        in_both_dict[code_4] = b"
   ]
  },
  {
   "cell_type": "code",
   "execution_count": null,
   "metadata": {},
   "outputs": [],
   "source": [
    "def condi(x):\n",
    "    if x in in_both_4ch:\n",
    "        return True\n",
    "    else:\n",
    "        return False"
   ]
  },
  {
   "cell_type": "code",
   "execution_count": null,
   "metadata": {},
   "outputs": [],
   "source": [
    "weather = weather[weather['Site'].apply(condi)]"
   ]
  },
  {
   "cell_type": "code",
   "execution_count": null,
   "metadata": {},
   "outputs": [],
   "source": [
    "weather[:5] #1787967 rows × 13 columns"
   ]
  },
  {
   "cell_type": "code",
   "execution_count": 13,
   "metadata": {},
   "outputs": [],
   "source": [
    "def from4to3(x):\n",
    "    if x in in_both_dict:\n",
    "        return in_both_dict[x]\n",
    "    else:\n",
    "        return None"
   ]
  },
  {
   "cell_type": "code",
   "execution_count": 14,
   "metadata": {},
   "outputs": [],
   "source": [
    "weather['Site_3ch'] = weather['Site'].apply(from4to3)"
   ]
  },
  {
   "cell_type": "code",
   "execution_count": 15,
   "metadata": {},
   "outputs": [],
   "source": [
    "weather = weather[['Site_3ch', 'Date', 'Hour', 'Temperature', 'Dewpoint', 'RH', 'WindDir',\n",
    "       'Windspeed', 'CldFrac', 'MSLP', 'Weather', 'Precip', 'Source']]"
   ]
  },
  {
   "cell_type": "code",
   "execution_count": 16,
   "metadata": {},
   "outputs": [],
   "source": [
    "weather['Date'] =  pd.to_datetime(weather['Date'], infer_datetime_format =True)"
   ]
  },
  {
   "cell_type": "code",
   "execution_count": 17,
   "metadata": {},
   "outputs": [],
   "source": [
    "hours = list(weather['Hour'].values)\n",
    "dates = weather['Date']\n",
    "\n",
    "# hours = dates.tolist()\n",
    "# aaa\n",
    "aa = []\n",
    "for i in dates:\n",
    "    a = '{:%Y-%m-%d}'.format(i)\n",
    "    aa.append(a)\n",
    "# aa\n",
    "\n",
    "hrs=[]\n",
    "for t in hours:\n",
    "    t = str(\"{0:02d}\".format(int(t))) + ':00:00'\n",
    "    hrs.append(t)\n",
    "    "
   ]
  },
  {
   "cell_type": "code",
   "execution_count": 18,
   "metadata": {},
   "outputs": [],
   "source": [
    "a = pd.DataFrame(aa, columns=list('a'))\n",
    "b = pd.DataFrame(hrs, columns=list('a'))\n",
    "datetime = a+' '+b\n",
    "datetime['a'] = pd.to_datetime(datetime['a'],infer_datetime_format=True)\n",
    "weather['a'] = list(datetime['a'])\n",
    "weather.rename(columns = {'a' : 'datetime'}, inplace = True)\n",
    "weather['datetime'] =  pd.to_datetime(weather['datetime'], infer_datetime_format =True)\n"
   ]
  },
  {
   "cell_type": "code",
   "execution_count": 19,
   "metadata": {},
   "outputs": [],
   "source": [
    "weather.drop(columns = 'Source', inplace = True)"
   ]
  },
  {
   "cell_type": "code",
   "execution_count": 20,
   "metadata": {},
   "outputs": [],
   "source": [
    "def whether_delayed(time):\n",
    "    if time >= 120:\n",
    "        return 'y'\n",
    "    else:\n",
    "        return 'n'\n",
    "\n",
    "df_new['DEPARTURE_DELAYED_YN'] = df_new['DEPARTURE_DELAY'].apply(whether_delayed)\n",
    "df_new['SCHEDULED_DEPARTURE'] = pd.to_datetime(df_new['SCHEDULED_DEPARTURE'])"
   ]
  },
  {
   "cell_type": "code",
   "execution_count": 21,
   "metadata": {},
   "outputs": [],
   "source": [
    "df_new['DATETIME'] = df_new['SCHEDULED_DEPARTURE'].dt.round(\"H\")"
   ]
  },
  {
   "cell_type": "code",
   "execution_count": 22,
   "metadata": {},
   "outputs": [],
   "source": [
    "weather = weather[['Site_3ch', 'datetime','Temperature','Dewpoint','RH','WindDir','Windspeed','CldFrac','MSLP','Precip']]"
   ]
  },
  {
   "cell_type": "code",
   "execution_count": 23,
   "metadata": {},
   "outputs": [
    {
     "data": {
      "text/plain": [
       "Index(['Unnamed: 0', 'AIRLINE', 'ORIGIN_AIRPORT', 'DESTINATION_AIRPORT',\n",
       "       'SCHEDULED_DEPARTURE', 'DEPARTURE_TIME', 'DEPARTURE_DELAY',\n",
       "       'SCHEDULED_TIME', 'ELAPSED_TIME', 'WEATHER_DELAY', 'CANCELLED',\n",
       "       'CANCELLATION_REASON', 'DEPARTURE_DELAYED_YN', 'DATETIME'],\n",
       "      dtype='object')"
      ]
     },
     "execution_count": 23,
     "metadata": {},
     "output_type": "execute_result"
    },
    {
     "data": {
      "text/plain": [
       "Index(['Site_3ch', 'datetime', 'Temperature', 'Dewpoint', 'RH', 'WindDir',\n",
       "       'Windspeed', 'CldFrac', 'MSLP', 'Precip'],\n",
       "      dtype='object')"
      ]
     },
     "execution_count": 23,
     "metadata": {},
     "output_type": "execute_result"
    }
   ],
   "source": [
    "df_new.columns\n",
    "weather.columns"
   ]
  },
  {
   "cell_type": "code",
   "execution_count": 24,
   "metadata": {},
   "outputs": [
    {
     "data": {
      "text/plain": [
       "Unnamed: 0                    0\n",
       "AIRLINE                       0\n",
       "ORIGIN_AIRPORT                0\n",
       "DESTINATION_AIRPORT           0\n",
       "SCHEDULED_DEPARTURE           0\n",
       "DEPARTURE_TIME            86153\n",
       "DEPARTURE_DELAY           86153\n",
       "SCHEDULED_TIME                6\n",
       "ELAPSED_TIME             105071\n",
       "WEATHER_DELAY           4755640\n",
       "CANCELLED                     0\n",
       "CANCELLATION_REASON     5729195\n",
       "DEPARTURE_DELAYED_YN          0\n",
       "DATETIME                      0\n",
       "dtype: int64"
      ]
     },
     "execution_count": 24,
     "metadata": {},
     "output_type": "execute_result"
    },
    {
     "data": {
      "text/plain": [
       "Site_3ch           0\n",
       "datetime           0\n",
       "Temperature        0\n",
       "Dewpoint           0\n",
       "RH                 0\n",
       "WindDir            0\n",
       "Windspeed          0\n",
       "CldFrac         8761\n",
       "MSLP            8761\n",
       "Precip         17854\n",
       "dtype: int64"
      ]
     },
     "execution_count": 24,
     "metadata": {},
     "output_type": "execute_result"
    }
   ],
   "source": [
    "df_new.isnull().sum()\n",
    "weather.isnull().sum()"
   ]
  },
  {
   "cell_type": "code",
   "execution_count": 25,
   "metadata": {},
   "outputs": [],
   "source": [
    "weather.rename(columns = {'datetime' : 'DATETIME'}, inplace = True)"
   ]
  },
  {
   "cell_type": "code",
   "execution_count": null,
   "metadata": {},
   "outputs": [],
   "source": [
    "for site in unique(df_new['ORIGIN_AIRPORT']):\n",
    "    print('----------------------------------------------------')\n",
    "    print(str(site) + '공항 시작')\n",
    "    if site in unique(weather['Site_3ch']):\n",
    "\n",
    "        dfdf = df_new[df_new['ORIGIN_AIRPORT'] == site]\n",
    "        wewe = weather[weather['Site_3ch'] == site]\n",
    "\n",
    "        FIFI = pd.merge(dfdf, wewe, on='DATETIME')\n",
    "        FIFI.rename(columns = {'datetime' : 'DATETIME',\n",
    "                               'Temperature' : 'TEMPERATURE',\n",
    "                                'WindDir' : 'WIND_DIRECTION',\n",
    "                                'Windspeed' : 'WIND_SPEED',\n",
    "                                'Dewpoint' : 'DEW_POINT',\n",
    "                                'RH' : 'RELATIVE_HUMIDITY',\n",
    "                                'CldFrac' : 'CLOUD_FRACTION',\n",
    "                                'MSLP' : 'MEAN_SEA_LEVEL_PRESSURE',\n",
    "                                'Precip' : 'PRECIPITATION'\n",
    "                               }, inplace = True)\n",
    "\n",
    "        if FIFI.shape[0] != 0:\n",
    "            for i in trange(12): \n",
    "                i += 1\n",
    "                try:\n",
    "                    a = sns.pairplot(FIFI[FIFI['DATETIME'].dt.month == i][['TEMPERATURE', 'WIND_DIRECTION','WIND_SPEED','DEW_POINT','RELATIVE_HUMIDITY','CLOUD_FRACTION','MEAN_SEA_LEVEL_PRESSURE', 'PRECIPITATION', 'DEPARTURE_DELAYED_YN']], hue = 'DEPARTURE_DELAYED_YN', palette = { 'y':'r', 'n': 'b'})\n",
    "                    a.savefig('pairplot_AIRPORT_' + str(site) + '_Month_' + str(i) + '_qunant_varialbe.png')\n",
    "                except:\n",
    "                    print(str(site) + '공항' + str(i) + '월 자료 없음')\n",
    "        else:\n",
    "            print('오류오류오륭ㄹ오')\n",
    "    else:\n",
    "        print( str(site) + ' = 해당 공항 날씨 데이터 없음')\n",
    "\n",
    "\n"
   ]
  },
  {
   "cell_type": "code",
   "execution_count": 26,
   "metadata": {},
   "outputs": [],
   "source": [
    "FIFIFI = pd.DataFrame(columns = ['AIRLINE', 'ORIGIN_AIRPORT', 'DESTINATION_AIRPORT',\n",
    "       'SCHEDULED_DEPARTURE', 'DEPARTURE_TIME', 'DEPARTURE_DELAY',\n",
    "       'SCHEDULED_TIME', 'ELAPSED_TIME', 'WEATHER_DELAY', 'CANCELLED',\n",
    "       'CANCELLATION_REASON', 'DEPARTURE_DELAYED_YN', 'DATETIME', 'TEMPERATURE', 'WIND_DIRECTION','WIND_SPEED','DEW_POINT','RELATIVE_HUMIDITY','CLOUD_FRACTION','MEAN_SEA_LEVEL_PRESSURE', 'PRECIPITATION', 'LATITUDE','LONGTITUE','FEET', 'DEPARTURE_DELAYED_YN'])"
   ]
  },
  {
   "cell_type": "code",
   "execution_count": 42,
   "metadata": {},
   "outputs": [
    {
     "data": {
      "text/plain": [
       "Index(['Site_3ch', 'DATETIME', 'Temperature', 'Dewpoint', 'RH', 'WindDir',\n",
       "       'Windspeed', 'CldFrac', 'MSLP', 'Precip'],\n",
       "      dtype='object')"
      ]
     },
     "execution_count": 42,
     "metadata": {},
     "output_type": "execute_result"
    }
   ],
   "source": [
    "weather.columns"
   ]
  },
  {
   "cell_type": "code",
   "execution_count": 43,
   "metadata": {},
   "outputs": [
    {
     "data": {
      "text/plain": [
       "Index(['Site4', 'City', 'TimeZone', 'OffUTC', 'State', 'Lat', 'Lon',\n",
       "       'Elevation(feet)', 'Site_3ch'],\n",
       "      dtype='object')"
      ]
     },
     "execution_count": 43,
     "metadata": {},
     "output_type": "execute_result"
    }
   ],
   "source": [
    "airport_data.columns"
   ]
  },
  {
   "cell_type": "code",
   "execution_count": 41,
   "metadata": {},
   "outputs": [
    {
     "data": {
      "text/plain": [
       "Index(['Unnamed: 0', 'AIRLINE', 'ORIGIN_AIRPORT', 'DESTINATION_AIRPORT',\n",
       "       'SCHEDULED_DEPARTURE', 'DEPARTURE_TIME', 'DEPARTURE_DELAY',\n",
       "       'SCHEDULED_TIME', 'ELAPSED_TIME', 'WEATHER_DELAY', 'CANCELLED',\n",
       "       'CANCELLATION_REASON', 'DEPARTURE_DELAYED_YN', 'DATETIME'],\n",
       "      dtype='object')"
      ]
     },
     "execution_count": 41,
     "metadata": {},
     "output_type": "execute_result"
    }
   ],
   "source": [
    "df_new.columns"
   ]
  },
  {
   "cell_type": "code",
   "execution_count": 32,
   "metadata": {},
   "outputs": [
    {
     "data": {
      "text/html": [
       "<div>\n",
       "<style scoped>\n",
       "    .dataframe tbody tr th:only-of-type {\n",
       "        vertical-align: middle;\n",
       "    }\n",
       "\n",
       "    .dataframe tbody tr th {\n",
       "        vertical-align: top;\n",
       "    }\n",
       "\n",
       "    .dataframe thead th {\n",
       "        text-align: right;\n",
       "    }\n",
       "</style>\n",
       "<table border=\"1\" class=\"dataframe\">\n",
       "  <thead>\n",
       "    <tr style=\"text-align: right;\">\n",
       "      <th></th>\n",
       "      <th>Site4</th>\n",
       "      <th>City</th>\n",
       "      <th>TimeZone</th>\n",
       "      <th>OffUTC</th>\n",
       "      <th>State</th>\n",
       "      <th>Lat</th>\n",
       "      <th>Lon</th>\n",
       "      <th>Elevation(feet)</th>\n",
       "    </tr>\n",
       "  </thead>\n",
       "  <tbody>\n",
       "    <tr>\n",
       "      <th>0</th>\n",
       "      <td>CWAJ</td>\n",
       "      <td>ERIEAU (MAPS)</td>\n",
       "      <td>EST</td>\n",
       "      <td>-5</td>\n",
       "      <td>ON</td>\n",
       "      <td>42.250000</td>\n",
       "      <td>-81.900000</td>\n",
       "      <td>584</td>\n",
       "    </tr>\n",
       "    <tr>\n",
       "      <th>1</th>\n",
       "      <td>CWBE</td>\n",
       "      <td>KILLARNEY (MAPS)</td>\n",
       "      <td>EST</td>\n",
       "      <td>-5</td>\n",
       "      <td>ON</td>\n",
       "      <td>45.966667</td>\n",
       "      <td>-81.466667</td>\n",
       "      <td>643</td>\n",
       "    </tr>\n",
       "    <tr>\n",
       "      <th>2</th>\n",
       "      <td>CWBZ</td>\n",
       "      <td>ST ANICET</td>\n",
       "      <td>EST</td>\n",
       "      <td>-5</td>\n",
       "      <td>QC</td>\n",
       "      <td>45.116667</td>\n",
       "      <td>-74.266667</td>\n",
       "      <td>161</td>\n",
       "    </tr>\n",
       "    <tr>\n",
       "      <th>3</th>\n",
       "      <td>CWFJ</td>\n",
       "      <td>CARDSTON (AUT)</td>\n",
       "      <td>MST</td>\n",
       "      <td>-7</td>\n",
       "      <td>AB</td>\n",
       "      <td>49.200000</td>\n",
       "      <td>-113.266667</td>\n",
       "      <td>3727</td>\n",
       "    </tr>\n",
       "    <tr>\n",
       "      <th>4</th>\n",
       "      <td>CWGD</td>\n",
       "      <td>GODERICH (AUTO8)</td>\n",
       "      <td>EST</td>\n",
       "      <td>-5</td>\n",
       "      <td>ON</td>\n",
       "      <td>43.766667</td>\n",
       "      <td>-81.716667</td>\n",
       "      <td>702</td>\n",
       "    </tr>\n",
       "  </tbody>\n",
       "</table>\n",
       "</div>"
      ],
      "text/plain": [
       "  Site4              City TimeZone  OffUTC State        Lat         Lon  \\\n",
       "0  CWAJ     ERIEAU (MAPS)      EST      -5    ON  42.250000  -81.900000   \n",
       "1  CWBE  KILLARNEY (MAPS)      EST      -5    ON  45.966667  -81.466667   \n",
       "2  CWBZ         ST ANICET      EST      -5    QC  45.116667  -74.266667   \n",
       "3  CWFJ    CARDSTON (AUT)      MST      -7    AB  49.200000 -113.266667   \n",
       "4  CWGD  GODERICH (AUTO8)      EST      -5    ON  43.766667  -81.716667   \n",
       "\n",
       "   Elevation(feet)  \n",
       "0              584  \n",
       "1              643  \n",
       "2              161  \n",
       "3             3727  \n",
       "4              702  "
      ]
     },
     "execution_count": 32,
     "metadata": {},
     "output_type": "execute_result"
    }
   ],
   "source": [
    "airport_data[:5]"
   ]
  },
  {
   "cell_type": "code",
   "execution_count": 34,
   "metadata": {},
   "outputs": [],
   "source": [
    "airport_data['Site_3ch'] = airport_data['Site4'].apply(from4to3)"
   ]
  },
  {
   "cell_type": "code",
   "execution_count": null,
   "metadata": {},
   "outputs": [],
   "source": [
    "for site in unique(df_new['ORIGIN_AIRPORT']):\n",
    "    print('----------------------------------------------------')\n",
    "    print(str(site) + '공항 시작')\n",
    "    if site in unique(weather['Site_3ch']):\n",
    "\n",
    "        dfdf = df_new[df_new['ORIGIN_AIRPORT'] == site]\n",
    "        wewe = weather[weather['Site_3ch'] == site]\n",
    "        adad  = airport_data[airport_data['Site_3ch'] == site] \n",
    "        FIFI = pd.merge(dfdf, wewe, on='DATETIME')\n",
    "        FIFIFI = pd.merge(FIFI, adad, on = 'Site_3ch')\n",
    "        FIFI.rename(columns = {'datetime' : 'DATETIME',\n",
    "                               'Temperature' : 'TEMPERATURE',\n",
    "                                'WindDir' : 'WIND_DIRECTION',\n",
    "                                'Windspeed' : 'WIND_SPEED',\n",
    "                                'Dewpoint' : 'DEW_POINT',\n",
    "                                'RH' : 'RELATIVE_HUMIDITY',\n",
    "                                'CldFrac' : 'CLOUD_FRACTION',\n",
    "                                'MSLP' : 'MEAN_SEA_LEVEL_PRESSURE',\n",
    "                                'Precip' : 'PRECIPITATION',\n",
    "                                'Lat' : 'LATITUDE',\n",
    "                                'Lon' : 'LONGTITUDE',\n",
    "                                'Elevation(feet)' : 'FEET'\n",
    "                               }, inplace = True)\n",
    "        if FIFIFI.shape[0] != 0:\n",
    "            try:\n",
    "                a = sns.pairplot(FIFIFI[FIFIFI['ORIGIN_AIRPORT'] == site][['TEMPERATURE', 'WIND_DIRECTION','WIND_SPEED','DEW_POINT','RELATIVE_HUMIDITY','CLOUD_FRACTION','MEAN_SEA_LEVEL_PRESSURE', 'PRECIPITATION', 'LATITUDE','LONGTITUDE','FEET', 'DEPARTURE_DELAYED_YN', 'LATITUDE','LONGTITUDE','FEET']], hue = 'DEPARTURE_DELAYED_YN', palette = { 'y':'r', 'n': 'b'})\n",
    "                a.savefig('pairplot_AIRPORT_' + str(site) + '_qunant_varialbe_with_lat_lon.png')\n",
    "            except:\n",
    "                print(str(site) + '공항' + str(i) + '월 자료 없음')\n",
    "            \n",
    "#             ##per month\n",
    "#             for i in trange(12): \n",
    "#                 i += 1\n",
    "#                 try:\n",
    "#                     a = sns.pairplot(FIFI[FIFI['DATETIME'].dt.month == i][['TEMPERATURE', 'WIND_DIRECTION','WIND_SPEED','DEW_POINT','RELATIVE_HUMIDITY','CLOUD_FRACTION','MEAN_SEA_LEVEL_PRESSURE', 'PRECIPITATION', 'LATITUDE','LONGTITUDE','FEET', 'DEPARTURE_DELAYED_YN', 'LATITUDE','LONGTITUDE','FEET']], hue = 'DEPARTURE_DELAYED_YN', palette = { 'y':'r', 'n': 'b'})\n",
    "#                     a.savefig('pairplot_AIRPORT_' + str(site) + '_Month_' + str(i) + '_qunant_varialbe_with_lat_lon.png')\n",
    "#                 except:\n",
    "#                     print(str(site) + '공항' + str(i) + '월 자료 없음')\n",
    "#         else:\n",
    "#             print('오류오류오륭ㄹ오')\n",
    "#     else:\n",
    "#         print(str(site) + ' = 해당 공항 날씨 데이터 없음')"
   ]
  }
 ],
 "metadata": {
  "kernelspec": {
   "display_name": "Python 3",
   "language": "python",
   "name": "python3"
  },
  "language_info": {
   "codemirror_mode": {
    "name": "ipython",
    "version": 3
   },
   "file_extension": ".py",
   "mimetype": "text/x-python",
   "name": "python",
   "nbconvert_exporter": "python",
   "pygments_lexer": "ipython3",
   "version": "3.6.5"
  }
 },
 "nbformat": 4,
 "nbformat_minor": 2
}
